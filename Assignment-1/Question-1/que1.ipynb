{
 "cells": [
  {
   "cell_type": "code",
   "execution_count": 10,
   "metadata": {},
   "outputs": [],
   "source": [
    "import numpy as np\n",
    "from scipy.misc import imread,imsave\n",
    "from PIL import Image\n",
    "import random"
   ]
  },
  {
   "cell_type": "code",
   "execution_count": 11,
   "metadata": {},
   "outputs": [],
   "source": [
    "def translation(img,i,w,c,l,index,index2,index3):\n",
    "    \n",
    "    for j in range(1,1001):\n",
    "        background = Image.new('RGB', (28, 28), (0,0,0))\n",
    "        if(l==7):\n",
    "            offset=(random.randint(0,16),random.randint(0,16))\n",
    "            background.paste(img, offset)\n",
    "            \n",
    "            background.save('./class/'+str(index2)+'_'+str(index3)+'_'+str(i)+'_'+str(index)+'_'+str(j)+'.jpg')\n",
    "        else:\n",
    "            offset=(random.randint(0,8),random.randint(0,8))\n",
    "            background.paste(img, offset)\n",
    "            background.save('./class/'+str(index2)+'_'+str(index3)+'_'+str(i)+'_'+str(index)+'_'+str(j)+'.jpg')\n",
    "        "
   ]
  },
  {
   "cell_type": "code",
   "execution_count": 12,
   "metadata": {},
   "outputs": [],
   "source": [
    "def linerot(img,l,w,c,index,index2,index3):\n",
    "    for i,angle in enumerate(range(0,180,15)):\n",
    "        rotated=img.rotate(angle, expand=True)\n",
    "        translation(rotated,i,w,c,l,index,index2,index3)\n"
   ]
  },
  {
   "cell_type": "code",
   "execution_count": 13,
   "metadata": {},
   "outputs": [
    {
     "name": "stderr",
     "output_type": "stream",
     "text": [
      "/home/anmol/venv/lib/python3.6/site-packages/ipykernel_launcher.py:14: DeprecationWarning: `imsave` is deprecated!\n",
      "`imsave` is deprecated in SciPy 1.0.0, and will be removed in 1.2.0.\n",
      "Use ``imageio.imwrite`` instead.\n",
      "  \n",
      "/home/anmol/venv/lib/python3.6/site-packages/ipykernel_launcher.py:22: DeprecationWarning: `imsave` is deprecated!\n",
      "`imsave` is deprecated in SciPy 1.0.0, and will be removed in 1.2.0.\n",
      "Use ``imageio.imwrite`` instead.\n",
      "/home/anmol/venv/lib/python3.6/site-packages/ipykernel_launcher.py:30: DeprecationWarning: `imsave` is deprecated!\n",
      "`imsave` is deprecated in SciPy 1.0.0, and will be removed in 1.2.0.\n",
      "Use ``imageio.imwrite`` instead.\n"
     ]
    }
   ],
   "source": [
    "length=[7,15]\n",
    "width=[1,3]\n",
    "colour=[[255,0,0],[0,0,255]]\n",
    "\n",
    "for w in width:\n",
    "    if w ==1:\n",
    "        for c in colour:\n",
    "            for l in length:\n",
    "                img=np.zeros([l+4,l+4,3],dtype=np.uint8)\n",
    "                img.fill(0)\n",
    "                for i in range(0,l//2+1):\n",
    "                    img[l//2+2][l//2+i+2]=c\n",
    "                    img[l//2+2][l//2-i+2]=c\n",
    "                imsave(\"temp.jpg\",img)\n",
    "                img  = Image.open(\"temp.jpg\")\n",
    "                linerot(img,l,w,c,colour.index(c),length.index(l),width.index(w))\n",
    "    else:\n",
    "        for c in colour:\n",
    "            for l in length:\n",
    "                img=np.zeros([l+4,l+4,3],dtype=np.uint8)\n",
    "                img.fill(0)\n",
    "                imsave(\"t.jpg\",img)\n",
    "                for i in range(0,l//2+1):\n",
    "                    img[l//2+1][l//2+i+2]=c\n",
    "                    img[l//2+1][l//2-i+2]=c\n",
    "                    img[l//2+2][l//2+i+2]=c\n",
    "                    img[l//2+2][l//2-i+2]=c\n",
    "                    img[l//2+3][l//2+i+2]=c\n",
    "                    img[l//2+3][l//2-i+2]=c\n",
    "                imsave(\"temp.jpg\",img)\n",
    "                img  = Image.open(\"temp.jpg\")\n",
    "                linerot(img,l,w,c,colour.index(c),length.index(l),width.index(w))\n",
    "            "
   ]
  }
 ],
 "metadata": {
  "kernelspec": {
   "display_name": "Python 3",
   "language": "python",
   "name": "python3"
  },
  "language_info": {
   "codemirror_mode": {
    "name": "ipython",
    "version": 3
   },
   "file_extension": ".py",
   "mimetype": "text/x-python",
   "name": "python",
   "nbconvert_exporter": "python",
   "pygments_lexer": "ipython3",
   "version": "3.6.7"
  }
 },
 "nbformat": 4,
 "nbformat_minor": 2
}
