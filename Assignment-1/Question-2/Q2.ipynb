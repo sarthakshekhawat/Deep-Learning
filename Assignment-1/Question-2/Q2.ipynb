{
 "cells": [
  {
   "cell_type": "code",
   "execution_count": 11,
   "metadata": {},
   "outputs": [],
   "source": [
    "# CS671_DEEP_LEARNING\n",
    "# Programming Assignment 1\n",
    "# Course Instructor : Aditya Nigam\n",
    "# 04 March 2019\n",
    "# Question2\n",
    "# Submitted By Group_No_6\n",
    "\n",
    "from datetime import datetime\n",
    "\n",
    "now = datetime.utcnow().strftime(\"%Y%m%d%H%M%S\")\n",
    "root_logdir = \"tf_logs\"\n",
    "logdir = \"{}/run-{}/\".format(root_logdir, now)\n",
    "\n",
    "import numpy as np\n",
    "import tensorflow as tf"
   ]
  },
  {
   "cell_type": "code",
   "execution_count": 12,
   "metadata": {},
   "outputs": [],
   "source": [
    "# load data from external files\n",
    "posi = np.load('q2_input/positions.npy')\n",
    "mass = np.load('q2_input/masses.npy')\n",
    "velo = np.load('q2_input/velocities.npy')"
   ]
  },
  {
   "cell_type": "code",
   "execution_count": 13,
   "metadata": {},
   "outputs": [],
   "source": [
    "# create graph\n",
    "graph = tf.get_default_graph()\n",
    "with graph.as_default():\n",
    "    thresh = tf.constant(.1, dtype=tf.float64, name='Treshold')\n",
    "    G = tf.constant(667000.0, dtype=tf.float64, name='Gravitation_constant')\n",
    "    dt = tf.constant(0.0001, dtype=tf.float64, name='Delta_t')\n",
    "    m = tf.Variable(mass, dtype=tf.float64, name='Masses')\n",
    "    v = tf.Variable(velo, dtype=tf.float64, name='Velocities')\n",
    "    p = tf.Variable(posi, dtype=tf.float64, name='Positions')\n",
    "    size_m = tf.size(m)\n",
    "    rel = tf.cast(tf.Variable(tf.fill([size_m, size_m, 2],0.0)), dtype=tf.float64, name='Rel_pos')\n",
    "    \n",
    "    # manipuulations\n",
    "    rel = tf.map_fn(lambda x: rel[x] + p - p[x], tf.range(size_m), dtype=tf.float64, name='Mapping_rel_pos')\n",
    "    s_rel = tf.math.reduce_sum(rel*rel, 2, keepdims=True)\n",
    "    mod_rel = tf.math.sqrt(s_rel, name='Mod_r')\n",
    "    size = tf.size(mod_rel)-size_m\n",
    "    flag = tf.cast(tf.reduce_sum(tf.where(mod_rel >= thresh, 1 * tf.ones_like(mod_rel), 0 * tf.ones_like(mod_rel))), dtype=tf.int32, name='Flag')\n",
    "    cr_mod_rel = tf.math.reciprocal(tf.math.pow(mod_rel, 3))\n",
    "    a = tf.math.multiply(G,m)\n",
    "    a1 = tf.math.multiply(a, cr_mod_rel)\n",
    "    a2 = tf.math.multiply(rel, a1, name='Acceleration_tensor')\n",
    "    a3 = tf.where(tf.is_nan(a2), tf.zeros_like(a2), a2)\n",
    "    a_net = tf.reduce_sum(a3, 1, name='Net_Acceleration')\n",
    "    \n",
    "    # output tensors\n",
    "    v_out = tf.math.add(v, tf.math.multiply(a_net,dt), name=\"V_out\")  \n",
    "    p_out = tf.math.add(p, tf.math.add(tf.math.multiply(v, dt), 1/2*a_net*dt*dt), name='P_out')\n",
    "\n",
    "# graph summary in logs to have a visual\n",
    "# representation in Tensorboard.\n",
    "summary = tf.summary.scalar('v', v)\n",
    "file_writer = tf.summary.FileWriter(logdir, tf.get_default_graph())"
   ]
  },
  {
   "cell_type": "code",
   "execution_count": 14,
   "metadata": {},
   "outputs": [],
   "source": [
    "x = 0\n",
    "vel = velo\n",
    "pos = posi\n",
    "\n",
    "# session loop\n",
    "with tf.Session() as sess:\n",
    "    tf.initialize_all_variables().run()\n",
    "    while(sess.run(flag, feed_dict={v:vel, p:pos}) == sess.run(size, feed_dict={v:vel, p:pos})):\n",
    "        vel = sess.run(v_out, feed_dict={v:vel, p:pos})\n",
    "        pos = sess.run(p_out, feed_dict={v:vel, p:pos})\n",
    "        mod = sess.run(mod_rel, feed_dict={p:pos})\n",
    "        x+=1"
   ]
  },
  {
   "cell_type": "code",
   "execution_count": 15,
   "metadata": {},
   "outputs": [
    {
     "name": "stdout",
     "output_type": "stream",
     "text": [
      "Total iterations:  58\n"
     ]
    }
   ],
   "source": [
    "print(\"Total iterations: \", x)\n",
    "\n",
    "# save output in file\n",
    "np.save('q2_output/velocities.npy', vel)\n",
    "np.save('q2_output/positions.npy', pos)"
   ]
  },
  {
   "cell_type": "code",
   "execution_count": null,
   "metadata": {},
   "outputs": [],
   "source": []
  }
 ],
 "metadata": {
  "kernelspec": {
   "display_name": "Python 3",
   "language": "python",
   "name": "python3"
  },
  "language_info": {
   "codemirror_mode": {
    "name": "ipython",
    "version": 3
   },
   "file_extension": ".py",
   "mimetype": "text/x-python",
   "name": "python",
   "nbconvert_exporter": "python",
   "pygments_lexer": "ipython3",
   "version": "3.6.7"
  }
 },
 "nbformat": 4,
 "nbformat_minor": 2
}
